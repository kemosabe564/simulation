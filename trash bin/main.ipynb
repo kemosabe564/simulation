{
 "cells": [
  {
   "cell_type": "code",
   "execution_count": 1,
   "metadata": {},
   "outputs": [
    {
     "name": "stdout",
     "output_type": "stream",
     "text": [
      "pygame 2.1.2 (SDL 2.0.18, Python 3.10.4)\n",
      "Hello from the pygame community. https://www.pygame.org/contribute.html\n"
     ]
    }
   ],
   "source": [
    "import numpy as np\n",
    "import pygame\n",
    "from pygame.locals import *\n",
    "from robot import *\n",
    "import random"
   ]
  },
  {
   "cell_type": "code",
   "execution_count": 2,
   "metadata": {},
   "outputs": [],
   "source": [
    "# Screen\n",
    "screen_width = 640; screen_height = 480\n",
    "screen = pygame.display.set_mode([screen_width, screen_height], DOUBLEBUF)\n",
    "\n",
    "# Obstacles\n",
    "num_circ_obsts = 3; obst_min_radius = 10; obst_max_radius = 50  # for circular obstacles\n",
    "\n",
    "def create_circular_obsts(num):\n",
    "    radius = []; circ_x = []; circ_y = []\n",
    "    for i in range(num):\n",
    "        radius.append(random.randint(obst_min_radius, obst_max_radius))\n",
    "        circ_x.append(random.randint(radius[i], screen_width - radius[i]))\n",
    "        circ_y.append(random.randint(radius[i], screen_height - radius[i]))\n",
    "    return [radius, circ_x, circ_y]\n",
    "\n",
    "def draw_circular_obsts(radius, circ_x, circ_y):\n",
    "    for i in range(num_circ_obsts):\n",
    "        pygame.draw.circle(screen, (0, 0, 255), (circ_x[i], circ_y[i]), radius[i], 0)\n"
   ]
  },
  {
   "cell_type": "code",
   "execution_count": 3,
   "metadata": {},
   "outputs": [
    {
     "ename": "",
     "evalue": "",
     "output_type": "error",
     "traceback": [
      "\u001b[1;31mThe Kernel crashed while executing code in the the current cell or a previous cell. Please review the code in the cell(s) to identify a possible cause of the failure. Click <a href='https://aka.ms/vscodeJupyterKernelCrash'>here</a> for more info. View Jupyter <a href='command:jupyter.viewOutput'>log</a> for further details."
     ]
    }
   ],
   "source": [
    "def main():\n",
    "    # PyGame inits\n",
    "    pygame.init()\n",
    "    pygame.display.set_caption('Unicycle robot')\n",
    "    clock = pygame.time.Clock()\n",
    "    ticks = pygame.time.get_ticks()\n",
    "    frames = 0\n",
    "\n",
    "    # Robot\n",
    "    robot_x = 100; robot_y = 100; robot_phi = 0; robot_l = 15; robot_b = 6  # Initial position\n",
    "    skirt_r = 50   # Sensor skirt radius\n",
    "    goalX = np.array([600, 400])    # goal position\n",
    "\n",
    "    data = {\"screen\":screen, \"goalX\":goalX, \"vmax\":0.5, \"gtg_scaling\":0.0001, \"K_p\":0.01, \"ao_scaling\":0.00005}\n",
    "\n",
    "    # Create obstacles\n",
    "    [radius, circ_x, circ_y] = create_circular_obsts(num_circ_obsts)\n",
    "\n",
    "    # PyGame loop\n",
    "    while(1):\n",
    "        # To exit\n",
    "        event = pygame.event.poll()\n",
    "        if event.type == QUIT or (event.type == KEYDOWN and event.key == K_ESCAPE):\n",
    "            break\n",
    "        screen.fill((50, 55, 60))   # background\n",
    "\n",
    "        # Draw robot, sensor skirt, obstacles and goal\n",
    "        bot = robot(robot_x, robot_y, robot_phi, robot_l, robot_b, data)\n",
    "        pygame.draw.circle(screen, (100, 100, 100), (int(bot.x), int(bot.y)), skirt_r, 0)   # Draw sensor skirt\n",
    "        draw_circular_obsts(radius, circ_x, circ_y)\n",
    "        bot.show()    # Draw the robot\n",
    "        pygame.draw.circle(screen, (0,255,0), goalX, 8, 0)  # Draw goal\n",
    "\n",
    "        # Check if obstacles are in sensor skirt\n",
    "        close_obst = []; dist = []\n",
    "        for i in range(num_circ_obsts):\n",
    "            distance = math.sqrt((circ_x[i] - robot_x)**2 + (circ_y[i] - robot_y)**2)\n",
    "            if( distance <= (skirt_r + radius[i])):\n",
    "                close_obst.append([circ_x[i], circ_y[i], radius[i]])\n",
    "                dist.append(distance)\n",
    "        # Go to goal\n",
    "        if(len(close_obst) == 0):           # No obstacle in sensor skirt\n",
    "            [v, omega] = bot.go_to_goal()   # output from controller go_to_goal()\n",
    "        # Paranoid behavior - run away from obstacle\n",
    "        else:\n",
    "            closest_obj = dist.index(min(dist)) # gives the index of the closest object\n",
    "            obstX = np.array([circ_x[closest_obj], circ_y[closest_obj]])\n",
    "            [v, omega] = bot.avoid_obst(obstX)\n",
    "        \n",
    "        # Update robot position and orientation as per control input\n",
    "        robot_x += v*math.cos(robot_phi); robot_y+= v*math.sin(robot_phi); robot_phi += omega\n",
    "\n",
    "        # FPS. Print if required\n",
    "        clock.tick(300)     # To limit fps, controls speed of the animation\n",
    "        fps = (frames*1000)/(pygame.time.get_ticks() - ticks)   # calculate current fps\n",
    "\n",
    "        # Update PyGame display\n",
    "        pygame.display.flip()\n",
    "        frames+=1\n",
    "\n"
   ]
  },
  {
   "cell_type": "code",
   "execution_count": null,
   "metadata": {},
   "outputs": [],
   "source": [
    "if(__name__ == '__main__'):\n",
    "    main()"
   ]
  }
 ],
 "metadata": {
  "kernelspec": {
   "display_name": "Python 3.10.4 64-bit",
   "language": "python",
   "name": "python3"
  },
  "language_info": {
   "codemirror_mode": {
    "name": "ipython",
    "version": 3
   },
   "file_extension": ".py",
   "mimetype": "text/x-python",
   "name": "python",
   "nbconvert_exporter": "python",
   "pygments_lexer": "ipython3",
   "version": "3.10.4"
  },
  "orig_nbformat": 4,
  "vscode": {
   "interpreter": {
    "hash": "b6a25a26ed03e0e9376478421b8f5b9dd64bd9687fd2c4e21c766b8bf46e9afc"
   }
  }
 },
 "nbformat": 4,
 "nbformat_minor": 2
}
