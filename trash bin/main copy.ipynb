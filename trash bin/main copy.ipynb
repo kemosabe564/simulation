{
 "cells": [
  {
   "cell_type": "code",
   "execution_count": 1,
   "metadata": {},
   "outputs": [
    {
     "name": "stdout",
     "output_type": "stream",
     "text": [
      "pygame 2.1.2 (SDL 2.0.18, Python 3.10.4)\n",
      "Hello from the pygame community. https://www.pygame.org/contribute.html\n"
     ]
    }
   ],
   "source": [
    "import numpy as np\n",
    "import pygame\n",
    "from pygame.locals import *\n",
    "from Robot import *\n",
    "import random\n",
    "\n",
    "from Obstacles import *\n"
   ]
  },
  {
   "cell_type": "code",
   "execution_count": 2,
   "metadata": {},
   "outputs": [],
   "source": [
    "def start():\n",
    "    \n",
    "    # init\n",
    "    screen_width = 640; screen_height = 480\n",
    "    screen = pygame.display.set_mode([screen_width, screen_height], DOUBLEBUF)\n",
    "    robot_x = 100; robot_y = 100; robot_phi = 0; robot_l = 15; robot_b = 6  # Initial position\n",
    "    skirt_r = 50   # Sensor skirt radius\n",
    "    goalX = np.array([600, 400])    # goal position\n",
    "    \n",
    "    obstacle = Obstacles(screen_width, screen_height, 3, 10, 50)\n",
    "    \n",
    "    \n",
    "    \n",
    "    pygame.init()\n",
    "    pygame.display.set_caption('Unicycle robot')\n",
    "    clock = pygame.time.Clock()\n",
    "    ticks = pygame.time.get_ticks()\n",
    "    frames = 0\n",
    "    \n",
    "    \n",
    "    \n",
    "    \n",
    "    while(1):\n",
    "        \n",
    "        event = pygame.event.poll()\n",
    "        if event.type == QUIT or (event.type == KEYDOWN and event.key == K_ESCAPE):\n",
    "            break\n",
    "        screen.fill((50, 55, 60))   # background\n",
    "        \n",
    "        obstacle.draw_circular_obsts(screen)\n",
    "        \n",
    "        \n",
    "        clock.tick(300)     # To limit fps, controls speed of the animation\n",
    "        \n",
    "        # Update PyGame display\n",
    "        pygame.display.flip()\n",
    "        frames+=1\n",
    "        \n",
    "        \n"
   ]
  },
  {
   "cell_type": "code",
   "execution_count": 3,
   "metadata": {},
   "outputs": [
    {
     "ename": "",
     "evalue": "",
     "output_type": "error",
     "traceback": [
      "\u001b[1;31mThe Kernel crashed while executing code in the the current cell or a previous cell. Please review the code in the cell(s) to identify a possible cause of the failure. Click <a href='https://aka.ms/vscodeJupyterKernelCrash'>here</a> for more info. View Jupyter <a href='command:jupyter.viewOutput'>log</a> for further details."
     ]
    }
   ],
   "source": [
    "if(__name__ == '__main__'):\n",
    "    \n",
    "    \n",
    "    # screen_width = 640; screen_height = 480\n",
    "    # screen = pygame.display.set_mode([screen_width, screen_height], DOUBLEBUF)\n",
    "\n",
    "    start()\n",
    "    \n",
    "    "
   ]
  }
 ],
 "metadata": {
  "kernelspec": {
   "display_name": "Python 3.10.4 64-bit",
   "language": "python",
   "name": "python3"
  },
  "language_info": {
   "codemirror_mode": {
    "name": "ipython",
    "version": 3
   },
   "file_extension": ".py",
   "mimetype": "text/x-python",
   "name": "python",
   "nbconvert_exporter": "python",
   "pygments_lexer": "ipython3",
   "version": "3.10.4"
  },
  "orig_nbformat": 4,
  "vscode": {
   "interpreter": {
    "hash": "b6a25a26ed03e0e9376478421b8f5b9dd64bd9687fd2c4e21c766b8bf46e9afc"
   }
  }
 },
 "nbformat": 4,
 "nbformat_minor": 2
}
